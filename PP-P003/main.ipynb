{
 "cells": [
  {
   "cell_type": "markdown",
   "id": "36bf384f-cf5f-4621-b93b-ec2ef835ed2b",
   "metadata": {},
   "source": [
    "<div style=\"float:left;\"><h1>Exercício 1)</h1></div>"
   ]
  },
  {
   "cell_type": "code",
   "execution_count": null,
   "id": "8d31a4f8-3200-4d4a-b729-b817fa747c73",
   "metadata": {},
   "outputs": [
    {
     "name": "stdout",
     "output_type": "stream",
     "text": [
      "Informe o procedimento desejado:\n",
      " 1.Cadastrar novo produto \n",
      " 2.Excluir produto\n",
      " 3.Listar produtos\n"
     ]
    }
   ],
   "source": [
    "def novoProduto():\n",
    "    verif = 1       \n",
    "    while(verif == 1):\n",
    "        print(\"Informe os dados do produto:\")\n",
    "        codigo = input(\"Código: \")\n",
    "        nome = input(\"Nome: \")\n",
    "        preco = float(input(\"Preco: \"))\n",
    "        if len(codigo) < 2:\n",
    "            produto = {'codigo': str(codigo),'nome': nome,'preco': preco}\n",
    "            verif = 0\n",
    "            supermercado.append(produto)\n",
    "        else:\n",
    "            print(\"Código invalido, infome o código novamente.\\n\")\n",
    "            verif = 1\n",
    "\n",
    "def removerProduto():\n",
    "    if len(supermercado) == 0:\n",
    "        print(\"Não há produtos cadastrados.\\n\")\n",
    "    else:\n",
    "        identificador = input(\"Informe o produto a ser removido : \")\n",
    "        for x in supermercado:\n",
    "            for y in x.values():\n",
    "                if y == identificador:\n",
    "                    supermercado.remove(x)\n",
    "                    print()\n",
    "\n",
    "def Listar():\n",
    "    counter = 1;\n",
    "    pagination = 0\n",
    "    navigation = 0\n",
    "    from operator import itemgetter\n",
    "    sortSupermercado = sorted(supermercado, key=itemgetter('preco'), reverse=False)\n",
    "    \n",
    "    if len(sortSupermercado) == 0:\n",
    "        print(\"Não há produtos cadastrados. \\n\")\n",
    "    elif len(sortSupermercado) <= 10:\n",
    "        for x in sortSupermercado:\n",
    "                print(counter,\".\")\n",
    "                print(x['nome'])\n",
    "                print(x['codigo'])\n",
    "                print(f\"{x['preco']:.2f}\")\n",
    "                counter += 1\n",
    "                print()\n",
    "    else:    \n",
    "\n",
    "        for x in range(10):\n",
    "            print(counter,\".\")\n",
    "            print(sortSupermercado[x+pagination]['nome'])\n",
    "            print(sortSupermercado[x+pagination]['codigo'])\n",
    "            print(f\"{sortSupermercado[x+pagination]['preco']:.2f}\")\n",
    "            counter += 1\n",
    "            print()\n",
    "                \n",
    "        while navigation == 0:\n",
    "                \n",
    "            if len(sortSupermercado)%10 == 0:\n",
    "                    \n",
    "                pagination += 10\n",
    "                for x in range(10):\n",
    "                        \n",
    "                    print(sortSupermercado[x+pagination]['nome'])\n",
    "                    print(sortSupermercado[x+pagination]['codigo'])\n",
    "                    print(f\"{sortSupermercado[x+pagination]['preco']:.2f}\")\n",
    "                    navigation = input(\"Deseja ver a proxima pagina?: \")\n",
    "                \n",
    "            else:\n",
    "                    \n",
    "                if pagination == (len(sortSupermercado)%10)*10:\n",
    "                        \n",
    "                    for x in range(((len(sortSupermercado)//10)//10)+1):\n",
    "                            \n",
    "                        print(counter,\".\")\n",
    "                        print(sortSupermercado[x+pagination]['nome'])\n",
    "                        print(sortSupermercado[x+pagination]['codigo'])\n",
    "                        print(f\"{sortSupermercado[x+pagination]['preco']:.2f}\")\n",
    "                        counter += 1\n",
    "                        print()\n",
    "                            \n",
    "                        if x+pagination == len(sortSupermercado):\n",
    "                                \n",
    "                            print(counter,\".\")\n",
    "                            print(\"Nome do produto: \",sortSupermercado[x+pagination]['nome'])\n",
    "                            print(\"codigo do produto: \",sortSupermercado[x+pagination]['codigo'])\n",
    "                            print(\"Preço do produto: \",f\"{sortSupermercado[x+pagination]['preco']:.2f}\")\n",
    "                            navigation = 1\n",
    "                            print()\n",
    "                                \n",
    "\n",
    "def Menu():\n",
    "    print(\"Informe o procedimento desejado:\\n 1.Cadastrar novo produto \\n 2.Excluir produto\\n 3.Listar produtos\")\n",
    "    escolha = input(\"Escolha: \")\n",
    "    print()\n",
    "    return escolha;\n",
    "\n",
    "supermercado = []\n",
    "\n",
    "def main():\n",
    "    continuar = \"0\";\n",
    "    while continuar == \"0\":\n",
    "        escolha = Menu()\n",
    "        match escolha:\n",
    "            case \"1\":\n",
    "                novoProduto()\n",
    "            case \"2\":\n",
    "                removerProduto()\n",
    "            case \"3\":\n",
    "                Listar()\n",
    "        continuar = input(\"Deseja executar mais alguma operação?: 0/S 1/N\")\n",
    "        print()\n",
    "        \n",
    "if __name__ == \"__main__\":\n",
    "    main()"
   ]
  },
  {
   "cell_type": "markdown",
   "id": "150a3a92-04f5-4752-b490-54bd9d59cdd7",
   "metadata": {},
   "source": [
    "<div style=\"float:left;\"><h1>Exercício 2)</h1></div>"
   ]
  },
  {
   "cell_type": "code",
   "execution_count": 184,
   "id": "7ffe4409-697f-448e-81c2-ce21d04ea4bd",
   "metadata": {},
   "outputs": [
    {
     "name": "stdout",
     "output_type": "stream",
     "text": [
      "Informe o procedimento desejado:\n",
      " 1.Cadastrar novo funcionario \n",
      " 2.Excluir funcionario do banco de dados\n",
      " 3.Listar funcionários\n",
      " 4.Reajustar 10% dos salários\n"
     ]
    },
    {
     "name": "stdin",
     "output_type": "stream",
     "text": [
      "Escolha:  1\n"
     ]
    },
    {
     "name": "stdout",
     "output_type": "stream",
     "text": [
      "\n"
     ]
    },
    {
     "name": "stdin",
     "output_type": "stream",
     "text": [
      "Informe seu nome:  Teste5\n",
      "Informe seu sobrenome:  Teste5\n",
      "Informe seu nome:  00/00/0000\n",
      "Informe seu rg 123.123.123.11\n",
      "Informe seu ano de admissão 0\n",
      "Informe seu salário mensal 500\n",
      "Deseja executar mais alguma operação?: 0/S 1/N 0\n"
     ]
    },
    {
     "name": "stdout",
     "output_type": "stream",
     "text": [
      "\n",
      "Informe o procedimento desejado:\n",
      " 1.Cadastrar novo funcionario \n",
      " 2.Excluir funcionario do banco de dados\n",
      " 3.Listar funcionários\n",
      " 4.Reajustar 10% dos salários\n"
     ]
    },
    {
     "name": "stdin",
     "output_type": "stream",
     "text": [
      "Escolha:  3\n"
     ]
    },
    {
     "name": "stdout",
     "output_type": "stream",
     "text": [
      "\n",
      "1 . \n",
      " {'nome': 'Teste1', 'sobrenome': 'Teste1', 'anoDeNascimento': '00/00/0000', 'RG': '123.123.123.11', 'anoDeAdmissão': 0, 'salário': 100.0}\n",
      "2 . \n",
      " {'nome': 'Teste2', 'sobrenome': 'Teste2', 'anoDeNascimento': '00/00/0000', 'RG': '123.123.123.11', 'anoDeAdmissão': 0, 'salário': 200.0}\n",
      "3 . \n",
      " {'nome': 'Teste3', 'sobrenome': 'Teste3', 'anoDeNascimento': '00/00/0000', 'RG': '123.123.123.11', 'anoDeAdmissão': 0, 'salário': 300.0}\n",
      "4 . \n",
      " {'nome': 'Teste4', 'sobrenome': 'Teste4', 'anoDeNascimento': '00/00/0000', 'RG': '123.123.123.11', 'anoDeAdmissão': 0, 'salário': 400.0}\n",
      "5 . \n",
      " {'nome': 'Teste5', 'sobrenome': 'Teste5', 'anoDeNascimento': '00/00/0000', 'RG': '123.123.123.11', 'anoDeAdmissão': 0, 'salário': 500.0}\n"
     ]
    },
    {
     "name": "stdin",
     "output_type": "stream",
     "text": [
      "Deseja executar mais alguma operação?: 0/S 1/N 1\n"
     ]
    },
    {
     "name": "stdout",
     "output_type": "stream",
     "text": [
      "\n"
     ]
    }
   ],
   "source": [
    "#Leitura dos dados do arquivo de texto\n",
    "ListaStr = []\n",
    "ListaDic = []\n",
    "funcionarioParced = []\n",
    "with open('funcionarios.txt') as file:\n",
    "    ListaStr = file.read().splitlines() \n",
    "file.close()\n",
    "\n",
    "for x in ListaStr:\n",
    "    funcionarioParced = x.split(\"|\")\n",
    "    funcionario = {'nome': funcionarioParced[0],'sobrenome': funcionarioParced[1],'anoDeNascimento': funcionarioParced[2],'RG': funcionarioParced[3],'anoDeAdmissão': int(funcionarioParced[4]),'salário': float(funcionarioParced[5])}\n",
    "    ListaDic.append(funcionario)\n",
    "#Leitura dos dados do arquivo de texto\n",
    "def Menu():\n",
    "    print(\"Informe o procedimento desejado:\\n 1.Cadastrar novo funcionario \\n 2.Excluir funcionario do banco de dados\\n 3.Listar funcionários\\n 4.Reajustar 10% dos salários\")\n",
    "    escolha = input(\"Escolha: \")\n",
    "    print()\n",
    "    return escolha;\n",
    "\n",
    "def novoFuncionario():\n",
    "    nome = input(\"Informe seu nome: \")\n",
    "    sobrenome = input(\"Informe seu sobrenome: \")\n",
    "    dataNAs = input(\"Informe sua data de nascimento: \")\n",
    "    rg = input(\"Informe seu rg\")\n",
    "    anoAd = input(\"Informe seu ano de admissão\")\n",
    "    salario = input(\"Informe seu salário mensal\")\n",
    "    funcionario = {'nome': nome,'sobrenome': sobrenome,'anoDeNascimento': dataNAs,'RG': rg,'anoDeAdmissão': int(anoAd),'salário': float(salario)}\n",
    "    ListaDic.append(funcionario)\n",
    "\n",
    "def removerFuncionario():\n",
    "    if len(ListaDic) == 0:\n",
    "        print(\"Não há produtos cadastrados.\\n\")\n",
    "    else:\n",
    "        identificador = input(\"Informe o funcionário a ser removido do banco de dados: \")\n",
    "        for x in ListaDic:\n",
    "            for y in x.values():\n",
    "                if y == identificador:\n",
    "                    ListaDic.remove(x)\n",
    "                    print()\n",
    "\n",
    "def Listar():\n",
    "    for x in enumerate(ListaDic):\n",
    "        print((x[0]+1),\".\",\"\\n\",x[1])\n",
    "                    \n",
    "def mandarParaArquivo():\n",
    "    file = open('funcionarios.txt','w')\n",
    "    for x in ListaDic:\n",
    "        file.write(x['nome']+\"|\"+x['sobrenome']+\"|\"+x['anoDeNascimento']+\"|\"+x['RG']+\"|\"+str(x['anoDeAdmissão'])+\"|\"+ \"{:.2f}\".format(x['salário'])+\"\\n\")\n",
    "    file.close()\n",
    "\n",
    "def reajustaDesPorCento():\n",
    "    for x in ListaDic:\n",
    "        x['salário'] *= 1.1 \n",
    "        \n",
    "def main():\n",
    "    continuar = \"0\";\n",
    "    while continuar == \"0\":\n",
    "        escolha = Menu()\n",
    "        match escolha:\n",
    "            case \"1\":\n",
    "                novoFuncionario()\n",
    "            case \"2\":\n",
    "                removerFuncionario()\n",
    "            case \"3\":\n",
    "                Listar()\n",
    "            case \"4\":\n",
    "                reajustaDesPorCento() \n",
    "        continuar = input(\"Deseja executar mais alguma operação?: 0/S 1/N\")\n",
    "        print()\n",
    "    mandarParaArquivo();    \n",
    "if __name__ == \"__main__\":\n",
    "    main()"
   ]
  },
  {
   "cell_type": "code",
   "execution_count": null,
   "id": "dde39bef-bbcd-419a-b2cb-a2f35ab6244a",
   "metadata": {},
   "outputs": [],
   "source": []
  }
 ],
 "metadata": {
  "kernelspec": {
   "display_name": "anaconda-panel-2023.05-py310",
   "language": "python",
   "name": "conda-env-anaconda-panel-2023.05-py310-py"
  },
  "language_info": {
   "codemirror_mode": {
    "name": "ipython",
    "version": 3
   },
   "file_extension": ".py",
   "mimetype": "text/x-python",
   "name": "python",
   "nbconvert_exporter": "python",
   "pygments_lexer": "ipython3",
   "version": "3.11.5"
  }
 },
 "nbformat": 4,
 "nbformat_minor": 5
}
